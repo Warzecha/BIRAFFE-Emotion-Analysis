{
 "cells": [
  {
   "cell_type": "code",
   "execution_count": 23,
   "metadata": {
    "collapsed": true,
    "pycharm": {
     "is_executing": false
    }
   },
   "outputs": [],
   "source": [
    "import pandas as pd\n",
    "import numpy as np\n",
    "import matplotlib.pyplot as plt\n",
    "import scipy.fftpack\n",
    "import scipy as sp\n",
    "\n"
   ]
  },
  {
   "cell_type": "code",
   "execution_count": 24,
   "outputs": [],
   "source": [
    "ecg_data = np.genfromtxt('BIRAFFE-biosigs/SUB5104-BioSigs.csv', delimiter=';')\n",
    "ecg_data = ecg_data[~np.isnan(ecg_data).any(axis=1)]"
   ],
   "metadata": {
    "collapsed": false,
    "pycharm": {
     "name": "#%%\n",
     "is_executing": false
    }
   }
  },
  {
   "cell_type": "code",
   "execution_count": null,
   "outputs": [],
   "source": [
    "def is_timestamp_in_window(row, start):\n",
    "    return (row[0] >= start)  and (row[0] < start+2)\n"
   ],
   "metadata": {
    "collapsed": false,
    "pycharm": {
     "name": "#%%\n",
     "is_executing": false
    }
   }
  },
  {
   "cell_type": "code",
   "execution_count": 25,
   "outputs": [],
   "source": [
    "face_data = pd.read_csv(\"BIRAFFE-photo/SUB5104-Face.csv\", sep=\";\")\n",
    "freud_face_data = face_data\n",
    "freud_face_data = freud_face_data.rename(columns={\"GAME-TIMESTAMP\": \"Timestamp\"})\n",
    "freud_face_data = freud_face_data.iloc[::2, :]\n"
   ],
   "metadata": {
    "collapsed": false,
    "pycharm": {
     "name": "#%%\n",
     "is_executing": false
    }
   }
  },
  {
   "cell_type": "code",
   "execution_count": 26,
   "outputs": [],
   "source": [
    "min_timestamp = freud_face_data[\"Timestamp\"].max()\n",
    "max_timestamp = freud_face_data[\"Timestamp\"].min()\n",
    "\n",
    "timestamps = ecg_data[:, 0]\n",
    "\n",
    "shape = timestamps.shape\n",
    "\n",
    "max_biosig_timestamp = np.amax(ecg_data[:, 0])\n",
    "min_biosig_timestamp = np.amin(ecg_data[:, 0])\n",
    "\n",
    "\n",
    "# def in_timestamp_range(row, min, max):\n",
    "#     return (row[0] >= min) and (row[0] < max)\n",
    "# \n",
    "# bool_arr = np.array([in_timestamp_range(row, ) for row in x])\n",
    "# x_new = x[bool_arr]\n",
    "  \n",
    "    "
   ],
   "metadata": {
    "collapsed": false,
    "pycharm": {
     "name": "#%%\n",
     "is_executing": false
    }
   }
  },
  {
   "cell_type": "code",
   "execution_count": 27,
   "outputs": [],
   "source": [
    "face_generator = freud_face_data.iterrows()\n",
    "indexes = []\n",
    "\n",
    "try: \n",
    "    face_sample_index, face_sample = next(face_generator)\n",
    "    \n",
    "    # face_sample[1][\"Timestamp\"]\n",
    "    # ecg_data = ecg_data[0:10000]\n",
    "    \n",
    "    for index, row in enumerate(ecg_data):\n",
    "        photo_timestamp = round(face_sample[\"Timestamp\"], 3)\n",
    "        # print(row[0], \" - \", photo_timestamp, \"Should increase: \", (row[0] > photo_timestamp))\n",
    "        if row[0] == photo_timestamp:\n",
    "            # print(\"Found\")\n",
    "            indexes.append(index)\n",
    "        elif row[0] > photo_timestamp:\n",
    "            face_sample_index, face_sample = next(face_generator)\n",
    "\n",
    "except StopIteration:\n",
    "    print(\"Iteration ended\")"
   ],
   "metadata": {
    "collapsed": false,
    "pycharm": {
     "name": "#%%\n",
     "is_executing": false
    }
   }
  },
  {
   "cell_type": "code",
   "execution_count": null,
   "outputs": [],
   "source": [
    "# np.array([row for row in ecg_data if row[0] >])\n",
    "# \n",
    "# np.split(ecg_data, np.cumsum(np.unique(ecg_data[:, 0], return_counts=True)[1])[:-1])\n",
    "    \n"
   ],
   "metadata": {
    "collapsed": false,
    "pycharm": {
     "name": "#%%\n",
     "is_executing": false
    }
   }
  },
  {
   "cell_type": "code",
   "execution_count": null,
   "outputs": [],
   "source": [
    "print(\"dupa\")\n",
    "# biosig_data = pd.read_csv(\"BIRAFFE-biosigs/SUB5104-BioSigs.csv\", sep=\";\", \n",
    "#                         # parse_dates=[\"GAME-TIMESTAMP\"]\n",
    "#                         )\n",
    "# biosig_data = biosig_data.rename(columns={\"TIMESTAMP\": \"Timestamp\"})\n",
    "# # biosig_data = biosig_data.round({'Timestamp': 0})\n",
    "# biosig_data.head()\n",
    "\n",
    "\n",
    "# timestamps = ecg_data[:, 0]\n",
    "# ecg_data = ecg_data[:, 1]\n"
   ],
   "metadata": {
    "collapsed": false,
    "pycharm": {
     "name": "#%%\n",
     "is_executing": false
    }
   }
  },
  {
   "cell_type": "code",
   "execution_count": null,
   "outputs": [],
   "source": [
    "\n",
    "# combined_data = pd.merge(biosig_data, freud_face_data,\n",
    "#                   left_on='Timestamp',\n",
    "#                   right_on='Timestamp',\n",
    "#                   how='inner')\n",
    "# \n",
    "# combined_data.head(4)"
   ],
   "metadata": {
    "collapsed": false,
    "pycharm": {
     "name": "#%%\n",
     "is_executing": false
    }
   }
  },
  {
   "cell_type": "code",
   "execution_count": null,
   "outputs": [],
   "source": [
    "# combined_data.plot(x='Timestamp', y=[\"HAPPINESS\", \"ECG\"])"
   ],
   "metadata": {
    "collapsed": false,
    "pycharm": {
     "name": "#%%\n",
     "is_executing": false
    }
   }
  },
  {
   "cell_type": "code",
   "execution_count": null,
   "outputs": [],
   "source": [
    "# face_game_data[face_game_data['Joystick'] == \"Left\"].plot(x='Timestamp', y='Horizontal')\n",
    "\n",
    "ecg_data = np.genfromtxt('BIRAFFE-biosigs/SUB5104-BioSigs.csv', delimiter=';')\n",
    "ecg_data = ecg_data[~np.isnan(ecg_data).any(axis=1)]\n",
    "timestamps = ecg_data[:, 0]\n",
    "ecg_data = ecg_data[:, 1]"
   ],
   "metadata": {
    "collapsed": false,
    "pycharm": {
     "name": "#%%\n",
     "is_executing": false
    }
   }
  },
  {
   "cell_type": "code",
   "execution_count": null,
   "outputs": [],
   "source": [
    "freq = np.fft.fft(ecg_data)\n",
    "\n",
    "plt.plot(freq)"
   ],
   "metadata": {
    "collapsed": false,
    "pycharm": {
     "name": "#%%\n",
     "is_executing": false
    }
   }
  },
  {
   "cell_type": "code",
   "execution_count": null,
   "outputs": [],
   "source": [
    "# sample spacing\n",
    "T = 1.0 / 1000.0\n",
    "x = timestamps\n",
    "y = ecg_data\n",
    "N = timestamps.shape[0]\n",
    "\n",
    "\n",
    "ft = np.fft.fft(y)\n",
    "freq = np.fft.fftfreq(N)\n",
    "plt.plot(freq, ft.real**2 + ft.imag**2)\n",
    "plt.show()"
   ],
   "metadata": {
    "collapsed": false,
    "pycharm": {
     "name": "#%%\n",
     "is_executing": false
    }
   }
  },
  {
   "cell_type": "code",
   "execution_count": null,
   "outputs": [],
   "source": [
    "from scipy.fftpack import fft\n",
    "\n",
    "ecg_sample = ecg_data[0:1000]\n",
    "time = np.linspace(0, 1, 1000)\n",
    "\n",
    "sample_rate = 1000\n",
    "N = time.shape[0]\n",
    "\n",
    "frequency = np.linspace (0.0, 500, int (N/2))\n",
    "\n",
    "freq_data = fft(ecg_sample)\n",
    "y = 2/N * np.abs (freq_data [0:np.int (N/2)])\n",
    "\n",
    "plt.plot(frequency, y)\n",
    "plt.title('Frequency domain Signal')\n",
    "plt.xlabel('Frequency in Hz')\n",
    "plt.ylabel(\"Amplitude\")\n",
    "plt.show()"
   ],
   "metadata": {
    "collapsed": false,
    "pycharm": {
     "name": "#%% \n",
     "is_executing": false
    }
   }
  },
  {
   "cell_type": "code",
   "execution_count": null,
   "outputs": [],
   "source": [
    "plt.plot(timestamps[0:2000], ecg_data[0:2000])"
   ],
   "metadata": {
    "collapsed": false,
    "pycharm": {
     "name": "#%%\n",
     "is_executing": false
    }
   }
  }
 ],
 "metadata": {
  "kernelspec": {
   "display_name": "Python 3",
   "language": "python",
   "name": "python3"
  },
  "language_info": {
   "codemirror_mode": {
    "name": "ipython",
    "version": 2
   },
   "file_extension": ".py",
   "mimetype": "text/x-python",
   "name": "python",
   "nbconvert_exporter": "python",
   "pygments_lexer": "ipython2",
   "version": "2.7.6"
  },
  "pycharm": {
   "stem_cell": {
    "cell_type": "raw",
    "source": [],
    "metadata": {
     "collapsed": false
    }
   }
  }
 },
 "nbformat": 4,
 "nbformat_minor": 0
}