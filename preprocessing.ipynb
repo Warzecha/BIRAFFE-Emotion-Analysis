{
 "cells": [
  {
   "cell_type": "code",
   "execution_count": 2,
   "metadata": {
    "pycharm": {
     "is_executing": false
    }
   },
   "outputs": [],
   "source": [
    "import ast\n",
    "import pandas as pd\n",
    "import matplotlib.pyplot as plt\n",
    "import re"
   ]
  },
  {
   "cell_type": "code",
   "execution_count": 11,
   "metadata": {},
   "outputs": [
    {
     "data": {
      "text/plain": [
       "'-0.6613928222656247'"
      ]
     },
     "execution_count": 11,
     "metadata": {},
     "output_type": "execute_result"
    }
   ],
   "source": [
    "answer_regex = re.compile('\\[([-+]?[0-9]*\\.?[0-9]*),\\s*([-+]?[0-9]*\\.?[0-9]*)\\]')\n",
    "\n",
    "\n",
    "def handle_valence (row):\n",
    "   if row['WIDGET-TYPE'] == \"emospace1\" :\n",
    "      return answer_regex.match(row[\"ANS\"])[1]\n",
    "    \n",
    "\n",
    "def handle_arousal (row):\n",
    "   if row['WIDGET-TYPE'] == \"emospace1\" :\n",
    "      return answer_regex.match(row[\"ANS\"])[2]"
   ]
  },
  {
   "cell_type": "code",
   "execution_count": 28,
   "metadata": {
    "pycharm": {
     "is_executing": false,
     "name": "#%%\n"
    }
   },
   "outputs": [
    {
     "ename": "TypeError",
     "evalue": "expected string or bytes-like object",
     "output_type": "error",
     "traceback": [
      "\u001b[0;31m---------------------------------------------------------------------------\u001b[0m",
      "\u001b[0;31mTypeError\u001b[0m                                 Traceback (most recent call last)",
      "\u001b[0;32m<ipython-input-28-c008e32e8784>\u001b[0m in \u001b[0;36m<module>\u001b[0;34m\u001b[0m\n\u001b[1;32m      8\u001b[0m \u001b[0;34m\u001b[0m\u001b[0m\n\u001b[1;32m      9\u001b[0m \u001b[0manswer_data\u001b[0m\u001b[0;34m.\u001b[0m\u001b[0mloc\u001b[0m\u001b[0;34m[\u001b[0m\u001b[0manswer_data\u001b[0m\u001b[0;34m[\u001b[0m\u001b[0;34m'WIDGET-TYPE'\u001b[0m\u001b[0;34m]\u001b[0m \u001b[0;34m==\u001b[0m \u001b[0;34m\"emoscale1\"\u001b[0m\u001b[0;34m,\u001b[0m \u001b[0;34m'EMO-ANS'\u001b[0m\u001b[0;34m]\u001b[0m \u001b[0;34m=\u001b[0m \u001b[0manswer_data\u001b[0m\u001b[0;34m[\u001b[0m\u001b[0;34m\"ANS\"\u001b[0m\u001b[0;34m]\u001b[0m\u001b[0;34m\u001b[0m\u001b[0;34m\u001b[0m\u001b[0m\n\u001b[0;32m---> 10\u001b[0;31m \u001b[0manswer_data\u001b[0m\u001b[0;34m.\u001b[0m\u001b[0mloc\u001b[0m\u001b[0;34m[\u001b[0m\u001b[0manswer_data\u001b[0m\u001b[0;34m[\u001b[0m\u001b[0;34m'WIDGET-TYPE'\u001b[0m\u001b[0;34m]\u001b[0m \u001b[0;34m==\u001b[0m \u001b[0;34m\"emospace1\"\u001b[0m\u001b[0;34m,\u001b[0m \u001b[0;34m'VALENCE-ANS'\u001b[0m\u001b[0;34m]\u001b[0m \u001b[0;34m=\u001b[0m \u001b[0manswer_regex\u001b[0m\u001b[0;34m.\u001b[0m\u001b[0mmatch\u001b[0m\u001b[0;34m(\u001b[0m\u001b[0manswer_data\u001b[0m\u001b[0;34m[\u001b[0m\u001b[0manswer_data\u001b[0m\u001b[0;34m[\u001b[0m\u001b[0;34m'WIDGET-TYPE'\u001b[0m\u001b[0;34m]\u001b[0m \u001b[0;34m==\u001b[0m \u001b[0;34m'emospace1'\u001b[0m\u001b[0;34m]\u001b[0m\u001b[0;34m[\u001b[0m\u001b[0;34m\"ANS\"\u001b[0m\u001b[0;34m]\u001b[0m\u001b[0;34m)\u001b[0m\u001b[0;34m[\u001b[0m\u001b[0;36m1\u001b[0m\u001b[0;34m]\u001b[0m\u001b[0;34m\u001b[0m\u001b[0;34m\u001b[0m\u001b[0m\n\u001b[0m\u001b[1;32m     11\u001b[0m \u001b[0manswer_data\u001b[0m\u001b[0;34m.\u001b[0m\u001b[0mloc\u001b[0m\u001b[0;34m[\u001b[0m\u001b[0manswer_data\u001b[0m\u001b[0;34m[\u001b[0m\u001b[0;34m'WIDGET-TYPE'\u001b[0m\u001b[0;34m]\u001b[0m \u001b[0;34m==\u001b[0m \u001b[0;34m\"emospace1\"\u001b[0m\u001b[0;34m,\u001b[0m \u001b[0;34m'AROUSAL-ANS'\u001b[0m\u001b[0;34m]\u001b[0m \u001b[0;34m=\u001b[0m \u001b[0manswer_regex\u001b[0m\u001b[0;34m.\u001b[0m\u001b[0mmatch\u001b[0m\u001b[0;34m(\u001b[0m\u001b[0manswer_data\u001b[0m\u001b[0;34m[\u001b[0m\u001b[0manswer_data\u001b[0m\u001b[0;34m[\u001b[0m\u001b[0;34m'WIDGET-TYPE'\u001b[0m\u001b[0;34m]\u001b[0m \u001b[0;34m==\u001b[0m \u001b[0;34m'emospace1'\u001b[0m\u001b[0;34m]\u001b[0m\u001b[0;34m[\u001b[0m\u001b[0;34m\"ANS\"\u001b[0m\u001b[0;34m]\u001b[0m\u001b[0;34m)\u001b[0m\u001b[0;34m[\u001b[0m\u001b[0;36m2\u001b[0m\u001b[0;34m]\u001b[0m\u001b[0;34m\u001b[0m\u001b[0;34m\u001b[0m\u001b[0m\n\u001b[1;32m     12\u001b[0m \u001b[0;34m\u001b[0m\u001b[0m\n",
      "\u001b[0;31mTypeError\u001b[0m: expected string or bytes-like object"
     ]
    }
   ],
   "source": [
    "\n",
    "answer_data = pd.read_csv(f'BIRAFFE-procedure/BIRAFFE-procedure/SUB1107-Procedure.csv', sep=\";\")\n",
    "answer_data = answer_data[[\"IADS-ID\", \"IAPS-ID\", \"WIDGET-TYPE\", \"ANS\", \"ANS-TIME\"]]\n",
    "\n",
    "\n",
    "answer_data[\"EMO-ANS\"] = 0\n",
    "answer_data[\"AROUSAL-ANS\"] = 0\n",
    "answer_data[\"VALENCE-ANS\"] = 0\n",
    "\n",
    "answer_data.loc[answer_data['WIDGET-TYPE'] == \"emoscale1\", 'EMO-ANS'] = answer_data[\"ANS\"]\n",
    "# answer_data.loc[answer_data['WIDGET-TYPE'] == \"emospace1\", 'VALENCE-ANS'] = \n",
    "# answer_data.loc[answer_data['WIDGET-TYPE'] == \"emospace1\", 'AROUSAL-ANS'] = answer_regex.match(answer_data[answer_data['WIDGET-TYPE'] == 'emospace1'].iloc[0][\"ANS\"])[2]\n",
    "\n",
    "df['VALENCE-ANS'] = df.apply (lambda row: label_race(row), axis=1)\n",
    "# answer_regex.match(answer_data[answer_data['WIDGET-TYPE'] == 'emospace1'].iloc[0][\"ANS\"])[1]\n",
    "\n",
    "answer_data.head()"
   ]
  },
  {
   "cell_type": "code",
   "execution_count": 28,
   "metadata": {
    "pycharm": {
     "is_executing": false,
     "name": "#%%\n"
    }
   },
   "outputs": [
    {
     "data": {
      "text/html": [
       "<div>\n",
       "<style scoped>\n",
       "    .dataframe tbody tr th:only-of-type {\n",
       "        vertical-align: middle;\n",
       "    }\n",
       "\n",
       "    .dataframe tbody tr th {\n",
       "        vertical-align: top;\n",
       "    }\n",
       "\n",
       "    .dataframe thead th {\n",
       "        text-align: right;\n",
       "    }\n",
       "</style>\n",
       "<table border=\"1\" class=\"dataframe\">\n",
       "  <thead>\n",
       "    <tr style=\"text-align: right;\">\n",
       "      <th></th>\n",
       "      <th>ID</th>\n",
       "      <th>AGE</th>\n",
       "      <th>SEX</th>\n",
       "      <th>PROCEDURE-BEGIN-TIMESTAMP</th>\n",
       "      <th>PROCEDURE-END-TIMESTAMP</th>\n",
       "      <th>BIOSIGS-BEGIN-TIMESTAMP</th>\n",
       "      <th>BIOSIGS-END-TIMESTAMP</th>\n",
       "      <th>OPENNESS</th>\n",
       "      <th>CONSCIENTIOUSNESS</th>\n",
       "      <th>EXTRAVERSION</th>\n",
       "      <th>AGREEABLENESS</th>\n",
       "      <th>NEUROTICISM</th>\n",
       "      <th>NEO-FFI</th>\n",
       "      <th>BIOSIGS</th>\n",
       "      <th>PROCEDURE</th>\n",
       "      <th>SPACE</th>\n",
       "      <th>FREUD</th>\n",
       "      <th>PHOTOS</th>\n",
       "    </tr>\n",
       "  </thead>\n",
       "  <tbody>\n",
       "    <tr>\n",
       "      <th>0</th>\n",
       "      <td>1107</td>\n",
       "      <td>21.0</td>\n",
       "      <td>F</td>\n",
       "      <td>1.555651e+09</td>\n",
       "      <td>1.555655e+09</td>\n",
       "      <td>1.555651e+09</td>\n",
       "      <td>1.555655e+09</td>\n",
       "      <td>4.0</td>\n",
       "      <td>6.0</td>\n",
       "      <td>10.0</td>\n",
       "      <td>4.0</td>\n",
       "      <td>3.0</td>\n",
       "      <td>Y</td>\n",
       "      <td>Y</td>\n",
       "      <td>Y</td>\n",
       "      <td>Y</td>\n",
       "      <td>Y</td>\n",
       "      <td>Y</td>\n",
       "    </tr>\n",
       "    <tr>\n",
       "      <th>1</th>\n",
       "      <td>1153</td>\n",
       "      <td>22.0</td>\n",
       "      <td>F</td>\n",
       "      <td>1.555672e+09</td>\n",
       "      <td>1.555676e+09</td>\n",
       "      <td>1.555672e+09</td>\n",
       "      <td>1.555676e+09</td>\n",
       "      <td>5.0</td>\n",
       "      <td>3.0</td>\n",
       "      <td>8.0</td>\n",
       "      <td>3.0</td>\n",
       "      <td>8.0</td>\n",
       "      <td>Y</td>\n",
       "      <td>Y</td>\n",
       "      <td>Y</td>\n",
       "      <td>Y</td>\n",
       "      <td>Y</td>\n",
       "      <td>Y</td>\n",
       "    </tr>\n",
       "    <tr>\n",
       "      <th>2</th>\n",
       "      <td>1233</td>\n",
       "      <td>21.0</td>\n",
       "      <td>F</td>\n",
       "      <td>1.555411e+09</td>\n",
       "      <td>1.555415e+09</td>\n",
       "      <td>NaN</td>\n",
       "      <td>NaN</td>\n",
       "      <td>6.0</td>\n",
       "      <td>8.0</td>\n",
       "      <td>7.0</td>\n",
       "      <td>10.0</td>\n",
       "      <td>2.0</td>\n",
       "      <td>Y</td>\n",
       "      <td>NaN</td>\n",
       "      <td>Y</td>\n",
       "      <td>Y</td>\n",
       "      <td>Y</td>\n",
       "      <td>Y</td>\n",
       "    </tr>\n",
       "    <tr>\n",
       "      <th>5</th>\n",
       "      <td>1318</td>\n",
       "      <td>21.0</td>\n",
       "      <td>M</td>\n",
       "      <td>1.558009e+09</td>\n",
       "      <td>1.558014e+09</td>\n",
       "      <td>1.558009e+09</td>\n",
       "      <td>1.558014e+09</td>\n",
       "      <td>3.0</td>\n",
       "      <td>6.0</td>\n",
       "      <td>5.0</td>\n",
       "      <td>5.0</td>\n",
       "      <td>2.0</td>\n",
       "      <td>Y</td>\n",
       "      <td>Y</td>\n",
       "      <td>Y</td>\n",
       "      <td>Y</td>\n",
       "      <td>Y</td>\n",
       "      <td>Y</td>\n",
       "    </tr>\n",
       "    <tr>\n",
       "      <th>6</th>\n",
       "      <td>1400</td>\n",
       "      <td>22.0</td>\n",
       "      <td>M</td>\n",
       "      <td>1.554710e+09</td>\n",
       "      <td>1.554715e+09</td>\n",
       "      <td>1.554711e+09</td>\n",
       "      <td>1.554715e+09</td>\n",
       "      <td>4.0</td>\n",
       "      <td>6.0</td>\n",
       "      <td>5.0</td>\n",
       "      <td>6.0</td>\n",
       "      <td>6.0</td>\n",
       "      <td>Y</td>\n",
       "      <td>Y</td>\n",
       "      <td>Y</td>\n",
       "      <td>Y</td>\n",
       "      <td>Y</td>\n",
       "      <td>Y</td>\n",
       "    </tr>\n",
       "  </tbody>\n",
       "</table>\n",
       "</div>"
      ],
      "text/plain": [
       "     ID   AGE SEX  PROCEDURE-BEGIN-TIMESTAMP  PROCEDURE-END-TIMESTAMP  \\\n",
       "0  1107  21.0   F               1.555651e+09             1.555655e+09   \n",
       "1  1153  22.0   F               1.555672e+09             1.555676e+09   \n",
       "2  1233  21.0   F               1.555411e+09             1.555415e+09   \n",
       "5  1318  21.0   M               1.558009e+09             1.558014e+09   \n",
       "6  1400  22.0   M               1.554710e+09             1.554715e+09   \n",
       "\n",
       "   BIOSIGS-BEGIN-TIMESTAMP  BIOSIGS-END-TIMESTAMP  OPENNESS  \\\n",
       "0             1.555651e+09           1.555655e+09       4.0   \n",
       "1             1.555672e+09           1.555676e+09       5.0   \n",
       "2                      NaN                    NaN       6.0   \n",
       "5             1.558009e+09           1.558014e+09       3.0   \n",
       "6             1.554711e+09           1.554715e+09       4.0   \n",
       "\n",
       "   CONSCIENTIOUSNESS  EXTRAVERSION  AGREEABLENESS  NEUROTICISM NEO-FFI  \\\n",
       "0                6.0          10.0            4.0          3.0       Y   \n",
       "1                3.0           8.0            3.0          8.0       Y   \n",
       "2                8.0           7.0           10.0          2.0       Y   \n",
       "5                6.0           5.0            5.0          2.0       Y   \n",
       "6                6.0           5.0            6.0          6.0       Y   \n",
       "\n",
       "  BIOSIGS PROCEDURE SPACE FREUD PHOTOS  \n",
       "0       Y         Y     Y     Y      Y  \n",
       "1       Y         Y     Y     Y      Y  \n",
       "2     NaN         Y     Y     Y      Y  \n",
       "5       Y         Y     Y     Y      Y  \n",
       "6       Y         Y     Y     Y      Y  "
      ]
     },
     "execution_count": 28,
     "metadata": {},
     "output_type": "execute_result"
    }
   ],
   "source": [
    "meta_data = pd.read_csv(\"BIRAFFE-metadata.csv\", sep=\";\")\n",
    "meta_data = meta_data.dropna(subset=['OPENNESS', 'CONSCIENTIOUSNESS', 'EXTRAVERSION',\t'AGREEABLENESS', 'NEUROTICISM', 'NEO-FFI', 'PROCEDURE'])\n",
    "meta_data.head()\n"
   ]
  },
  {
   "cell_type": "code",
   "execution_count": 29,
   "metadata": {
    "pycharm": {
     "is_executing": false,
     "name": "#%%\n"
    }
   },
   "outputs": [
    {
     "data": {
      "text/html": [
       "<div>\n",
       "<style scoped>\n",
       "    .dataframe tbody tr th:only-of-type {\n",
       "        vertical-align: middle;\n",
       "    }\n",
       "\n",
       "    .dataframe tbody tr th {\n",
       "        vertical-align: top;\n",
       "    }\n",
       "\n",
       "    .dataframe thead th {\n",
       "        text-align: right;\n",
       "    }\n",
       "</style>\n",
       "<table border=\"1\" class=\"dataframe\">\n",
       "  <thead>\n",
       "    <tr style=\"text-align: right;\">\n",
       "      <th></th>\n",
       "      <th>Sound</th>\n",
       "      <th>IADS-ID</th>\n",
       "      <th>ValenceMean</th>\n",
       "      <th>ValenceSD</th>\n",
       "      <th>ArousalMean</th>\n",
       "      <th>ArousalSD</th>\n",
       "    </tr>\n",
       "  </thead>\n",
       "  <tbody>\n",
       "    <tr>\n",
       "      <th>0</th>\n",
       "      <td>Cat</td>\n",
       "      <td>102</td>\n",
       "      <td>4.63</td>\n",
       "      <td>2.17</td>\n",
       "      <td>4.91</td>\n",
       "      <td>1.97</td>\n",
       "    </tr>\n",
       "    <tr>\n",
       "      <th>1</th>\n",
       "      <td>Panting</td>\n",
       "      <td>104</td>\n",
       "      <td>4.96</td>\n",
       "      <td>1.68</td>\n",
       "      <td>5.37</td>\n",
       "      <td>1.66</td>\n",
       "    </tr>\n",
       "    <tr>\n",
       "      <th>2</th>\n",
       "      <td>Puppy</td>\n",
       "      <td>105</td>\n",
       "      <td>2.88</td>\n",
       "      <td>2.14</td>\n",
       "      <td>6.40</td>\n",
       "      <td>2.13</td>\n",
       "    </tr>\n",
       "    <tr>\n",
       "      <th>3</th>\n",
       "      <td>Growl1</td>\n",
       "      <td>106</td>\n",
       "      <td>3.37</td>\n",
       "      <td>1.64</td>\n",
       "      <td>6.39</td>\n",
       "      <td>1.62</td>\n",
       "    </tr>\n",
       "    <tr>\n",
       "      <th>4</th>\n",
       "      <td>Dog</td>\n",
       "      <td>107</td>\n",
       "      <td>5.47</td>\n",
       "      <td>2.22</td>\n",
       "      <td>5.85</td>\n",
       "      <td>1.81</td>\n",
       "    </tr>\n",
       "  </tbody>\n",
       "</table>\n",
       "</div>"
      ],
      "text/plain": [
       "     Sound  IADS-ID  ValenceMean  ValenceSD  ArousalMean  ArousalSD\n",
       "0      Cat      102         4.63       2.17         4.91       1.97\n",
       "1  Panting      104         4.96       1.68         5.37       1.66\n",
       "2    Puppy      105         2.88       2.14         6.40       2.13\n",
       "3   Growl1      106         3.37       1.64         6.39       1.62\n",
       "4      Dog      107         5.47       2.22         5.85       1.81"
      ]
     },
     "execution_count": 29,
     "metadata": {},
     "output_type": "execute_result"
    }
   ],
   "source": [
    "iads_data = pd.read_csv(\"IADS-database.csv\", sep=\";\")\n",
    "iads_data = iads_data.rename(columns={\"Number\": \"IADS-ID\"})\n",
    "iads_data.head()\n",
    "\n"
   ]
  },
  {
   "cell_type": "code",
   "execution_count": 30,
   "metadata": {
    "pycharm": {
     "is_executing": false,
     "name": "#%%\n"
    }
   },
   "outputs": [
    {
     "data": {
      "text/html": [
       "<div>\n",
       "<style scoped>\n",
       "    .dataframe tbody tr th:only-of-type {\n",
       "        vertical-align: middle;\n",
       "    }\n",
       "\n",
       "    .dataframe tbody tr th {\n",
       "        vertical-align: top;\n",
       "    }\n",
       "\n",
       "    .dataframe thead th {\n",
       "        text-align: right;\n",
       "    }\n",
       "</style>\n",
       "<table border=\"1\" class=\"dataframe\">\n",
       "  <thead>\n",
       "    <tr style=\"text-align: right;\">\n",
       "      <th></th>\n",
       "      <th>Description</th>\n",
       "      <th>IAPS-ID</th>\n",
       "      <th>ValenceMean</th>\n",
       "      <th>ValenceSD</th>\n",
       "      <th>ArousalMean</th>\n",
       "      <th>ArousalSD</th>\n",
       "      <th>set</th>\n",
       "    </tr>\n",
       "  </thead>\n",
       "  <tbody>\n",
       "    <tr>\n",
       "      <th>0</th>\n",
       "      <td>Snake</td>\n",
       "      <td>1019.0</td>\n",
       "      <td>3.95</td>\n",
       "      <td>1.96</td>\n",
       "      <td>5.77</td>\n",
       "      <td>1.83</td>\n",
       "      <td>12</td>\n",
       "    </tr>\n",
       "    <tr>\n",
       "      <th>1</th>\n",
       "      <td>Snake</td>\n",
       "      <td>1022.0</td>\n",
       "      <td>4.26</td>\n",
       "      <td>2.04</td>\n",
       "      <td>6.02</td>\n",
       "      <td>1.97</td>\n",
       "      <td>12</td>\n",
       "    </tr>\n",
       "    <tr>\n",
       "      <th>2</th>\n",
       "      <td>Snake</td>\n",
       "      <td>1026.0</td>\n",
       "      <td>4.09</td>\n",
       "      <td>1.91</td>\n",
       "      <td>5.61</td>\n",
       "      <td>2.23</td>\n",
       "      <td>16</td>\n",
       "    </tr>\n",
       "    <tr>\n",
       "      <th>3</th>\n",
       "      <td>Snake</td>\n",
       "      <td>1030.0</td>\n",
       "      <td>4.30</td>\n",
       "      <td>2.35</td>\n",
       "      <td>5.46</td>\n",
       "      <td>2.43</td>\n",
       "      <td>1</td>\n",
       "    </tr>\n",
       "    <tr>\n",
       "      <th>4</th>\n",
       "      <td>Snake</td>\n",
       "      <td>1033.0</td>\n",
       "      <td>3.87</td>\n",
       "      <td>1.94</td>\n",
       "      <td>6.13</td>\n",
       "      <td>2.15</td>\n",
       "      <td>18</td>\n",
       "    </tr>\n",
       "  </tbody>\n",
       "</table>\n",
       "</div>"
      ],
      "text/plain": [
       "  Description  IAPS-ID  ValenceMean  ValenceSD  ArousalMean  ArousalSD  set\n",
       "0       Snake   1019.0         3.95       1.96         5.77       1.83   12\n",
       "1       Snake   1022.0         4.26       2.04         6.02       1.97   12\n",
       "2       Snake   1026.0         4.09       1.91         5.61       2.23   16\n",
       "3       Snake   1030.0         4.30       2.35         5.46       2.43    1\n",
       "4       Snake   1033.0         3.87       1.94         6.13       2.15   18"
      ]
     },
     "execution_count": 30,
     "metadata": {},
     "output_type": "execute_result"
    }
   ],
   "source": [
    "iaps_data = pd.read_csv(\"IAPS-database.csv\", sep=\";\")\n",
    "iaps_data = iaps_data.rename(columns={\"IAPS\": \"IAPS-ID\"})\n",
    "iaps_data.astype({'IAPS-ID': 'int32'})\n",
    "iaps_data.head()\n",
    "\n"
   ]
  },
  {
   "cell_type": "code",
   "execution_count": 31,
   "metadata": {
    "pycharm": {
     "is_executing": false,
     "name": "#%%\n"
    }
   },
   "outputs": [],
   "source": [
    "\n",
    "def preprocess_face_data(subject_id):\n",
    "    face_data = pd.read_csv(f'BIRAFFE-photo/SUB{subject_id}-Face.csv', sep=\";\")\n",
    "    face_data = face_data.dropna(subset=['IADS-ID', 'IAPS-ID'])\n",
    "    face_data = face_data.dropna(subset=['ANGER', 'CONTEMPT', 'DISGUST', 'FEAR', 'HAPPINESS', 'NEUTRAL', 'SADNESS',\t'SURPRISE'])\n",
    "    \n",
    "    merged = face_data.merge(iaps_data, how='left', on='IAPS-ID')\n",
    "    merged = merged.merge(iads_data, how='left', on='IADS-ID', suffixes=('-IAPS', '_IADS'))\n",
    "    \n",
    "    grouped = merged.groupby(['IADS-ID', 'IAPS-ID']).mean()\n",
    "    grouped = grouped.drop(columns=[\"GAME-TIMESTAMP\", \"PICTURE-TIMESTAMP\", \"set\"])\n",
    "    return grouped\n"
   ]
  },
  {
   "cell_type": "code",
   "execution_count": null,
   "metadata": {
    "pycharm": {
     "name": "#%%\n"
    }
   },
   "outputs": [],
   "source": [
    "def preprocess_answer_data(subject_id):\n",
    "    answer_data = pd.read_csv(f'BIRAFFE-procedure/BIRAFFE-procedure/SUB{subject_id}-Procedure.csv', sep=\";\")\n",
    "    # answer_data = answer_data.dropna(subset=['IADS-ID', 'IAPS-ID'])\n",
    "    # answer_data = answer_data.dropna(subset=['ANGER', 'CONTEMPT', 'DISGUST', 'FEAR', 'HAPPINESS', 'NEUTRAL', 'SADNESS',\t'SURPRISE'])\n",
    "    \n",
    "    # merged = answer_data.merge(iaps_data, how='left', on='IAPS-ID')\n",
    "    # merged = merged.merge(iads_data, how='left', on='IADS-ID', suffixes=('-IAPS', '_IADS'))\n",
    "    \n",
    "    # grouped = merged.groupby(['IADS-ID', 'IAPS-ID']).mean()\n",
    "    # grouped = grouped.drop(columns=[\"GAME-TIMESTAMP\", \"PICTURE-TIMESTAMP\", \"set\"])\n",
    "    # return grouped\n"
   ]
  },
  {
   "cell_type": "code",
   "execution_count": 34,
   "metadata": {
    "pycharm": {
     "is_executing": false,
     "name": "#%%\n"
    }
   },
   "outputs": [],
   "source": [
    "for index, row in meta_data.iterrows():\n",
    "    subject_id = row['ID']\n",
    "    data = preprocess_face_data(subject_id)\n",
    "    \n",
    "    data['SUB-ID'] = subject_id\n",
    "    data['OPENNESS'] = row['OPENNESS']\n",
    "    data['CONSCIENTIOUSNESS'] = row['CONSCIENTIOUSNESS']\n",
    "    data['EXTRAVERSION'] = row['EXTRAVERSION']\n",
    "    data['AGREEABLENESS'] = row['AGREEABLENESS']\n",
    "    data['NEUROTICISM'] = row['NEUROTICISM']\n",
    "    \n",
    "    answer_data = pd.read_csv(f'BIRAFFE-procedure/BIRAFFE-procedure/SUB{subject_id}-Procedure.csv', sep=\";\")\n",
    "\n",
    "    \n",
    "    \n",
    "    \n",
    "    data = data.dropna()\n",
    "    data.to_csv(f'preprocessed/DATA-{subject_id}.csv')\n",
    "    "
   ]
  },
  {
   "cell_type": "code",
   "execution_count": 35,
   "metadata": {
    "pycharm": {
     "is_executing": false,
     "name": "#%%\n"
    }
   },
   "outputs": [],
   "source": [
    "import glob\n",
    "\n",
    "path = 'preprocessed'\n",
    "all_files = glob.glob(path + \"/DATA-*.csv\")\n",
    "\n",
    "li = []\n",
    "\n",
    "for filename in all_files:\n",
    "    df = pd.read_csv(filename, index_col=None, header=0)\n",
    "    li.append(df)\n",
    "\n",
    "all_dfs = pd.concat(li, axis=0, ignore_index=True)\n",
    "all_dfs.to_csv('preprocessed/ALL-DATA.csv')"
   ]
  }
 ],
 "metadata": {
  "kernelspec": {
   "display_name": "Python 3",
   "language": "python",
   "name": "python3"
  },
  "language_info": {
   "codemirror_mode": {
    "name": "ipython",
    "version": 3
   },
   "file_extension": ".py",
   "mimetype": "text/x-python",
   "name": "python",
   "nbconvert_exporter": "python",
   "pygments_lexer": "ipython3",
   "version": "3.7.6"
  },
  "pycharm": {
   "stem_cell": {
    "cell_type": "raw",
    "metadata": {
     "collapsed": false
    },
    "source": []
   }
  }
 },
 "nbformat": 4,
 "nbformat_minor": 1
}
